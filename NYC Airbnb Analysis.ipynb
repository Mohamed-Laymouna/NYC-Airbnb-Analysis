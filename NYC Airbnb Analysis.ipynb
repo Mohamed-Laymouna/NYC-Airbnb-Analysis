{
 "cells": [
  {
   "cell_type": "markdown",
   "metadata": {},
   "source": [
    "# Project Description\n",
    "In this project, we will apply data importing and cleaning skills to uncover insights about the Airbnb market in New York City.\n",
    "\n",
    "we will import data from multiple file types and combine them to answer questions about the Airbnb market in New York. we will also use your string cleaning and date manipulation skills to extract accurate information from the datasets."
   ]
  },
  {
   "cell_type": "markdown",
   "metadata": {},
   "source": [
    "# 1. Import and prepare the Datasets\n",
    "* In this notebook, we will take a look at the NYC Airbnb market by combining data from multiple file types like `.csv, .tsv, and .xlsx`.\n",
    "\n",
    "* We will be working with three datasets:\n",
    "\n",
    "1. \"datasets/airbnb_price.csv\"\n",
    "\n",
    "2. \"datasets/airbnb_room_type.xlsx\"\n",
    "\n",
    "3. \"datasets/airbnb_last_review.tsv\"\n"
   ]
  },
  {
   "cell_type": "code",
   "execution_count": 1,
   "metadata": {},
   "outputs": [],
   "source": [
    "# import relevant libraries\n",
    "import pandas as pd\n",
    "import numpy as np\n",
    "import matplotlib.pyplot as plt\n",
    "import seaborn as sns"
   ]
  },
  {
   "cell_type": "code",
   "execution_count": 2,
   "metadata": {},
   "outputs": [],
   "source": [
    "# import the datasets and store them in variables\n",
    "\n",
    "# Load airbnb_price.csv\n",
    "prices = pd.read_csv('datasets/airbnb_price.csv')\n",
    "# Load airbnb_last_reviews.csv\n",
    "reviews = pd.read_csv('datasets/airbnb_last_review.tsv', sep='\\t')\n",
    "# Load  the first sheet in airbnb_room_type.xlsx\n",
    "room_types = pd.read_excel('datasets/airbnb_room_type.xlsx', sheet_name=0)"
   ]
  },
  {
   "cell_type": "code",
   "execution_count": 3,
   "metadata": {},
   "outputs": [
    {
     "name": "stdout",
     "output_type": "stream",
     "text": [
      "   listing_id        price                nbhood_full\n",
      "0        2595  225 dollars         Manhattan, Midtown\n",
      "1        3831   89 dollars     Brooklyn, Clinton Hill\n",
      "2        5099  200 dollars     Manhattan, Murray Hill\n",
      "3        5178   79 dollars  Manhattan, Hell's Kitchen\n",
      "4        5238  150 dollars       Manhattan, Chinatown\n",
      "==================================================\n",
      "   listing_id    host_name   last_review\n",
      "0        2595     Jennifer   May 21 2019\n",
      "1        3831  LisaRoxanne  July 05 2019\n",
      "2        5099        Chris  June 22 2019\n",
      "3        5178     Shunichi  June 24 2019\n",
      "4        5238          Ben  June 09 2019\n",
      "==================================================\n",
      "   listing_id                                description        room_type\n",
      "0        2595                      Skylit Midtown Castle  Entire home/apt\n",
      "1        3831            Cozy Entire Floor of Brownstone  Entire home/apt\n",
      "2        5099  Large Cozy 1 BR Apartment In Midtown East  Entire home/apt\n",
      "3        5178            Large Furnished Room Near B'way     private room\n",
      "4        5238         Cute & Cozy Lower East Side 1 bdrm  Entire home/apt\n"
     ]
    }
   ],
   "source": [
    "# print the first 5 rows of each dataset\n",
    "print(prices.head())\n",
    "print('='*50)\n",
    "print(reviews.head())\n",
    "print('='*50)\n",
    "print(room_types.head())"
   ]
  },
  {
   "cell_type": "code",
   "execution_count": 4,
   "metadata": {},
   "outputs": [
    {
     "name": "stdout",
     "output_type": "stream",
     "text": [
      "(25209, 3)\n",
      "(25209, 3)\n",
      "(25209, 3)\n"
     ]
    }
   ],
   "source": [
    "# print the shape of each dataset\n",
    "print(prices.shape)\n",
    "print(reviews.shape)\n",
    "print(room_types.shape)"
   ]
  },
  {
   "cell_type": "markdown",
   "metadata": {},
   "source": [
    "we have 3 datasets, each with the same number of rows but different columns , we need to merge them into one dataset\n",
    "we will use the pandas merge function to merge the datasets. we will merge the prices and room_types datasets first\n",
    "then we will merge the reviews dataset with the merged prices and room_types  dataset"
   ]
  },
  {
   "cell_type": "code",
   "execution_count": 5,
   "metadata": {},
   "outputs": [
    {
     "data": {
      "text/html": [
       "<div>\n",
       "<style scoped>\n",
       "    .dataframe tbody tr th:only-of-type {\n",
       "        vertical-align: middle;\n",
       "    }\n",
       "\n",
       "    .dataframe tbody tr th {\n",
       "        vertical-align: top;\n",
       "    }\n",
       "\n",
       "    .dataframe thead th {\n",
       "        text-align: right;\n",
       "    }\n",
       "</style>\n",
       "<table border=\"1\" class=\"dataframe\">\n",
       "  <thead>\n",
       "    <tr style=\"text-align: right;\">\n",
       "      <th></th>\n",
       "      <th>listing_id</th>\n",
       "      <th>price</th>\n",
       "      <th>nbhood_full</th>\n",
       "      <th>description</th>\n",
       "      <th>room_type</th>\n",
       "      <th>host_name</th>\n",
       "      <th>last_review</th>\n",
       "    </tr>\n",
       "  </thead>\n",
       "  <tbody>\n",
       "    <tr>\n",
       "      <th>0</th>\n",
       "      <td>2595</td>\n",
       "      <td>225 dollars</td>\n",
       "      <td>Manhattan, Midtown</td>\n",
       "      <td>Skylit Midtown Castle</td>\n",
       "      <td>Entire home/apt</td>\n",
       "      <td>Jennifer</td>\n",
       "      <td>May 21 2019</td>\n",
       "    </tr>\n",
       "    <tr>\n",
       "      <th>1</th>\n",
       "      <td>3831</td>\n",
       "      <td>89 dollars</td>\n",
       "      <td>Brooklyn, Clinton Hill</td>\n",
       "      <td>Cozy Entire Floor of Brownstone</td>\n",
       "      <td>Entire home/apt</td>\n",
       "      <td>LisaRoxanne</td>\n",
       "      <td>July 05 2019</td>\n",
       "    </tr>\n",
       "    <tr>\n",
       "      <th>2</th>\n",
       "      <td>5099</td>\n",
       "      <td>200 dollars</td>\n",
       "      <td>Manhattan, Murray Hill</td>\n",
       "      <td>Large Cozy 1 BR Apartment In Midtown East</td>\n",
       "      <td>Entire home/apt</td>\n",
       "      <td>Chris</td>\n",
       "      <td>June 22 2019</td>\n",
       "    </tr>\n",
       "    <tr>\n",
       "      <th>3</th>\n",
       "      <td>5178</td>\n",
       "      <td>79 dollars</td>\n",
       "      <td>Manhattan, Hell's Kitchen</td>\n",
       "      <td>Large Furnished Room Near B'way</td>\n",
       "      <td>private room</td>\n",
       "      <td>Shunichi</td>\n",
       "      <td>June 24 2019</td>\n",
       "    </tr>\n",
       "    <tr>\n",
       "      <th>4</th>\n",
       "      <td>5238</td>\n",
       "      <td>150 dollars</td>\n",
       "      <td>Manhattan, Chinatown</td>\n",
       "      <td>Cute &amp; Cozy Lower East Side 1 bdrm</td>\n",
       "      <td>Entire home/apt</td>\n",
       "      <td>Ben</td>\n",
       "      <td>June 09 2019</td>\n",
       "    </tr>\n",
       "  </tbody>\n",
       "</table>\n",
       "</div>"
      ],
      "text/plain": [
       "   listing_id        price                nbhood_full  \\\n",
       "0        2595  225 dollars         Manhattan, Midtown   \n",
       "1        3831   89 dollars     Brooklyn, Clinton Hill   \n",
       "2        5099  200 dollars     Manhattan, Murray Hill   \n",
       "3        5178   79 dollars  Manhattan, Hell's Kitchen   \n",
       "4        5238  150 dollars       Manhattan, Chinatown   \n",
       "\n",
       "                                 description        room_type    host_name  \\\n",
       "0                      Skylit Midtown Castle  Entire home/apt     Jennifer   \n",
       "1            Cozy Entire Floor of Brownstone  Entire home/apt  LisaRoxanne   \n",
       "2  Large Cozy 1 BR Apartment In Midtown East  Entire home/apt        Chris   \n",
       "3            Large Furnished Room Near B'way     private room     Shunichi   \n",
       "4         Cute & Cozy Lower East Side 1 bdrm  Entire home/apt          Ben   \n",
       "\n",
       "    last_review  \n",
       "0   May 21 2019  \n",
       "1  July 05 2019  \n",
       "2  June 22 2019  \n",
       "3  June 24 2019  \n",
       "4  June 09 2019  "
      ]
     },
     "execution_count": 5,
     "metadata": {},
     "output_type": "execute_result"
    }
   ],
   "source": [
    "# merge the three datasets into one\n",
    "\n",
    "prices_and_rooms = prices.merge(room_types, how='outer' , on='listing_id')\n",
    "airbnb_merged = prices_and_rooms.merge(reviews, how='outer', on='listing_id')\n",
    "\n",
    "airbnb_merged.head()"
   ]
  },
  {
   "cell_type": "markdown",
   "metadata": {},
   "source": [
    "now we have a merged dataset, we can start exploring it and check if the data is clean or not"
   ]
  },
  {
   "cell_type": "markdown",
   "metadata": {},
   "source": [
    "# Data Cleaning"
   ]
  },
  {
   "cell_type": "code",
   "execution_count": 6,
   "metadata": {},
   "outputs": [
    {
     "data": {
      "text/html": [
       "<div>\n",
       "<style scoped>\n",
       "    .dataframe tbody tr th:only-of-type {\n",
       "        vertical-align: middle;\n",
       "    }\n",
       "\n",
       "    .dataframe tbody tr th {\n",
       "        vertical-align: top;\n",
       "    }\n",
       "\n",
       "    .dataframe thead th {\n",
       "        text-align: right;\n",
       "    }\n",
       "</style>\n",
       "<table border=\"1\" class=\"dataframe\">\n",
       "  <thead>\n",
       "    <tr style=\"text-align: right;\">\n",
       "      <th></th>\n",
       "      <th>listing_id</th>\n",
       "      <th>price</th>\n",
       "      <th>nbhood_full</th>\n",
       "      <th>description</th>\n",
       "      <th>room_type</th>\n",
       "      <th>host_name</th>\n",
       "      <th>last_review</th>\n",
       "    </tr>\n",
       "  </thead>\n",
       "  <tbody>\n",
       "    <tr>\n",
       "      <th>0</th>\n",
       "      <td>2595</td>\n",
       "      <td>225 dollars</td>\n",
       "      <td>Manhattan, Midtown</td>\n",
       "      <td>Skylit Midtown Castle</td>\n",
       "      <td>Entire home/apt</td>\n",
       "      <td>Jennifer</td>\n",
       "      <td>May 21 2019</td>\n",
       "    </tr>\n",
       "    <tr>\n",
       "      <th>1</th>\n",
       "      <td>3831</td>\n",
       "      <td>89 dollars</td>\n",
       "      <td>Brooklyn, Clinton Hill</td>\n",
       "      <td>Cozy Entire Floor of Brownstone</td>\n",
       "      <td>Entire home/apt</td>\n",
       "      <td>LisaRoxanne</td>\n",
       "      <td>July 05 2019</td>\n",
       "    </tr>\n",
       "    <tr>\n",
       "      <th>2</th>\n",
       "      <td>5099</td>\n",
       "      <td>200 dollars</td>\n",
       "      <td>Manhattan, Murray Hill</td>\n",
       "      <td>Large Cozy 1 BR Apartment In Midtown East</td>\n",
       "      <td>Entire home/apt</td>\n",
       "      <td>Chris</td>\n",
       "      <td>June 22 2019</td>\n",
       "    </tr>\n",
       "    <tr>\n",
       "      <th>3</th>\n",
       "      <td>5178</td>\n",
       "      <td>79 dollars</td>\n",
       "      <td>Manhattan, Hell's Kitchen</td>\n",
       "      <td>Large Furnished Room Near B'way</td>\n",
       "      <td>private room</td>\n",
       "      <td>Shunichi</td>\n",
       "      <td>June 24 2019</td>\n",
       "    </tr>\n",
       "    <tr>\n",
       "      <th>4</th>\n",
       "      <td>5238</td>\n",
       "      <td>150 dollars</td>\n",
       "      <td>Manhattan, Chinatown</td>\n",
       "      <td>Cute &amp; Cozy Lower East Side 1 bdrm</td>\n",
       "      <td>Entire home/apt</td>\n",
       "      <td>Ben</td>\n",
       "      <td>June 09 2019</td>\n",
       "    </tr>\n",
       "  </tbody>\n",
       "</table>\n",
       "</div>"
      ],
      "text/plain": [
       "   listing_id        price                nbhood_full  \\\n",
       "0        2595  225 dollars         Manhattan, Midtown   \n",
       "1        3831   89 dollars     Brooklyn, Clinton Hill   \n",
       "2        5099  200 dollars     Manhattan, Murray Hill   \n",
       "3        5178   79 dollars  Manhattan, Hell's Kitchen   \n",
       "4        5238  150 dollars       Manhattan, Chinatown   \n",
       "\n",
       "                                 description        room_type    host_name  \\\n",
       "0                      Skylit Midtown Castle  Entire home/apt     Jennifer   \n",
       "1            Cozy Entire Floor of Brownstone  Entire home/apt  LisaRoxanne   \n",
       "2  Large Cozy 1 BR Apartment In Midtown East  Entire home/apt        Chris   \n",
       "3            Large Furnished Room Near B'way     private room     Shunichi   \n",
       "4         Cute & Cozy Lower East Side 1 bdrm  Entire home/apt          Ben   \n",
       "\n",
       "    last_review  \n",
       "0   May 21 2019  \n",
       "1  July 05 2019  \n",
       "2  June 22 2019  \n",
       "3  June 24 2019  \n",
       "4  June 09 2019  "
      ]
     },
     "execution_count": 6,
     "metadata": {},
     "output_type": "execute_result"
    }
   ],
   "source": [
    "# check the first five rows of the dataset\n",
    "airbnb_merged.head()"
   ]
  },
  {
   "cell_type": "code",
   "execution_count": 7,
   "metadata": {},
   "outputs": [
    {
     "name": "stdout",
     "output_type": "stream",
     "text": [
      "<class 'pandas.core.frame.DataFrame'>\n",
      "Int64Index: 25209 entries, 0 to 25208\n",
      "Data columns (total 7 columns):\n",
      " #   Column       Non-Null Count  Dtype \n",
      "---  ------       --------------  ----- \n",
      " 0   listing_id   25209 non-null  int64 \n",
      " 1   price        25209 non-null  object\n",
      " 2   nbhood_full  25209 non-null  object\n",
      " 3   description  25199 non-null  object\n",
      " 4   room_type    25209 non-null  object\n",
      " 5   host_name    25201 non-null  object\n",
      " 6   last_review  25209 non-null  object\n",
      "dtypes: int64(1), object(6)\n",
      "memory usage: 1.5+ MB\n",
      "None\n"
     ]
    }
   ],
   "source": [
    "# check the data info \n",
    "print(airbnb_merged.info())"
   ]
  },
  {
   "cell_type": "markdown",
   "metadata": {},
   "source": [
    "as we can see, \n",
    "* the `last_review` column is an object, we need to convert it to datetime.\n",
    "* also the `price` column is an object and each value followed by 'dollars' string, we need to convert it to float and convert it to numerical.\n",
    "* the `nbhood_full` column contains borough and neighbourhood so we can split the column into two columns .\n"
   ]
  },
  {
   "cell_type": "code",
   "execution_count": 8,
   "metadata": {},
   "outputs": [],
   "source": [
    "# convert last_review to datetime\n",
    "airbnb_merged['last_review'] = pd.to_datetime(airbnb_merged['last_review'])"
   ]
  },
  {
   "cell_type": "code",
   "execution_count": 9,
   "metadata": {},
   "outputs": [],
   "source": [
    "# remove string from price column and convert it to numeric\n",
    "airbnb_merged['price'] = airbnb_merged['price'].str.replace('dollars', '')\n",
    "airbnb_merged['price'] = pd.to_numeric(airbnb_merged['price'])"
   ]
  },
  {
   "cell_type": "code",
   "execution_count": 10,
   "metadata": {},
   "outputs": [],
   "source": [
    "# split the nbhood_full column into two columns\n",
    "airbnb_merged['borough'] = airbnb_merged['nbhood_full'].str.partition(',')[0]\n",
    "airbnb_merged['neighbourhood'] = airbnb_merged['nbhood_full'].str.partition(',')[2]\n",
    "# drop nbhood_full column\n",
    "airbnb_merged.drop('nbhood_full', axis=1, inplace=True)"
   ]
  },
  {
   "cell_type": "code",
   "execution_count": 11,
   "metadata": {},
   "outputs": [
    {
     "data": {
      "text/html": [
       "<div>\n",
       "<style scoped>\n",
       "    .dataframe tbody tr th:only-of-type {\n",
       "        vertical-align: middle;\n",
       "    }\n",
       "\n",
       "    .dataframe tbody tr th {\n",
       "        vertical-align: top;\n",
       "    }\n",
       "\n",
       "    .dataframe thead th {\n",
       "        text-align: right;\n",
       "    }\n",
       "</style>\n",
       "<table border=\"1\" class=\"dataframe\">\n",
       "  <thead>\n",
       "    <tr style=\"text-align: right;\">\n",
       "      <th></th>\n",
       "      <th>listing_id</th>\n",
       "      <th>price</th>\n",
       "      <th>description</th>\n",
       "      <th>room_type</th>\n",
       "      <th>host_name</th>\n",
       "      <th>last_review</th>\n",
       "      <th>borough</th>\n",
       "      <th>neighbourhood</th>\n",
       "    </tr>\n",
       "  </thead>\n",
       "  <tbody>\n",
       "    <tr>\n",
       "      <th>0</th>\n",
       "      <td>2595</td>\n",
       "      <td>225</td>\n",
       "      <td>Skylit Midtown Castle</td>\n",
       "      <td>Entire home/apt</td>\n",
       "      <td>Jennifer</td>\n",
       "      <td>2019-05-21</td>\n",
       "      <td>Manhattan</td>\n",
       "      <td>Midtown</td>\n",
       "    </tr>\n",
       "    <tr>\n",
       "      <th>1</th>\n",
       "      <td>3831</td>\n",
       "      <td>89</td>\n",
       "      <td>Cozy Entire Floor of Brownstone</td>\n",
       "      <td>Entire home/apt</td>\n",
       "      <td>LisaRoxanne</td>\n",
       "      <td>2019-07-05</td>\n",
       "      <td>Brooklyn</td>\n",
       "      <td>Clinton Hill</td>\n",
       "    </tr>\n",
       "    <tr>\n",
       "      <th>2</th>\n",
       "      <td>5099</td>\n",
       "      <td>200</td>\n",
       "      <td>Large Cozy 1 BR Apartment In Midtown East</td>\n",
       "      <td>Entire home/apt</td>\n",
       "      <td>Chris</td>\n",
       "      <td>2019-06-22</td>\n",
       "      <td>Manhattan</td>\n",
       "      <td>Murray Hill</td>\n",
       "    </tr>\n",
       "    <tr>\n",
       "      <th>3</th>\n",
       "      <td>5178</td>\n",
       "      <td>79</td>\n",
       "      <td>Large Furnished Room Near B'way</td>\n",
       "      <td>private room</td>\n",
       "      <td>Shunichi</td>\n",
       "      <td>2019-06-24</td>\n",
       "      <td>Manhattan</td>\n",
       "      <td>Hell's Kitchen</td>\n",
       "    </tr>\n",
       "    <tr>\n",
       "      <th>4</th>\n",
       "      <td>5238</td>\n",
       "      <td>150</td>\n",
       "      <td>Cute &amp; Cozy Lower East Side 1 bdrm</td>\n",
       "      <td>Entire home/apt</td>\n",
       "      <td>Ben</td>\n",
       "      <td>2019-06-09</td>\n",
       "      <td>Manhattan</td>\n",
       "      <td>Chinatown</td>\n",
       "    </tr>\n",
       "  </tbody>\n",
       "</table>\n",
       "</div>"
      ],
      "text/plain": [
       "   listing_id  price                                description  \\\n",
       "0        2595    225                      Skylit Midtown Castle   \n",
       "1        3831     89            Cozy Entire Floor of Brownstone   \n",
       "2        5099    200  Large Cozy 1 BR Apartment In Midtown East   \n",
       "3        5178     79            Large Furnished Room Near B'way   \n",
       "4        5238    150         Cute & Cozy Lower East Side 1 bdrm   \n",
       "\n",
       "         room_type    host_name last_review    borough    neighbourhood  \n",
       "0  Entire home/apt     Jennifer  2019-05-21  Manhattan          Midtown  \n",
       "1  Entire home/apt  LisaRoxanne  2019-07-05   Brooklyn     Clinton Hill  \n",
       "2  Entire home/apt        Chris  2019-06-22  Manhattan      Murray Hill  \n",
       "3     private room     Shunichi  2019-06-24  Manhattan   Hell's Kitchen  \n",
       "4  Entire home/apt          Ben  2019-06-09  Manhattan        Chinatown  "
      ]
     },
     "execution_count": 11,
     "metadata": {},
     "output_type": "execute_result"
    }
   ],
   "source": [
    "airbnb_merged.head()"
   ]
  },
  {
   "cell_type": "code",
   "execution_count": 12,
   "metadata": {},
   "outputs": [
    {
     "data": {
      "text/plain": [
       "Entire home/apt    8458\n",
       "Private room       7241\n",
       "entire home/apt    2665\n",
       "private room       2248\n",
       "ENTIRE HOME/APT    2143\n",
       "PRIVATE ROOM       1867\n",
       "Shared room         380\n",
       "shared room         110\n",
       "SHARED ROOM          97\n",
       "Name: room_type, dtype: int64"
      ]
     },
     "execution_count": 12,
     "metadata": {},
     "output_type": "execute_result"
    }
   ],
   "source": [
    "# check room categories\n",
    "airbnb_merged['room_type'].value_counts()"
   ]
  },
  {
   "cell_type": "markdown",
   "metadata": {},
   "source": [
    "`room_type` column have same categories with different variations so to solve this problem we can lower case all values "
   ]
  },
  {
   "cell_type": "code",
   "execution_count": 13,
   "metadata": {},
   "outputs": [
    {
     "data": {
      "text/plain": [
       "entire home/apt    13266\n",
       "private room       11356\n",
       "shared room          587\n",
       "Name: room_type, dtype: int64"
      ]
     },
     "execution_count": 13,
     "metadata": {},
     "output_type": "execute_result"
    }
   ],
   "source": [
    "airbnb_merged['room_type'] = airbnb_merged['room_type'].str.lower()\n",
    "# chaeck the values again\n",
    "airbnb_merged['room_type'].value_counts()"
   ]
  },
  {
   "cell_type": "code",
   "execution_count": 14,
   "metadata": {},
   "outputs": [
    {
     "data": {
      "text/plain": [
       "listing_id        0\n",
       "price             0\n",
       "description      10\n",
       "room_type         0\n",
       "host_name         8\n",
       "last_review       0\n",
       "borough           0\n",
       "neighbourhood     0\n",
       "dtype: int64"
      ]
     },
     "execution_count": 14,
     "metadata": {},
     "output_type": "execute_result"
    }
   ],
   "source": [
    "# check missing values\n",
    "airbnb_merged.isna().sum()"
   ]
  },
  {
   "cell_type": "code",
   "execution_count": 15,
   "metadata": {},
   "outputs": [],
   "source": [
    "# drop missing values\n",
    "airbnb_merged.dropna(inplace=True)"
   ]
  },
  {
   "cell_type": "code",
   "execution_count": 16,
   "metadata": {},
   "outputs": [
    {
     "data": {
      "text/plain": [
       "False"
      ]
     },
     "execution_count": 16,
     "metadata": {},
     "output_type": "execute_result"
    }
   ],
   "source": [
    "# check duplicate values\n",
    "airbnb_merged.duplicated().any()"
   ]
  },
  {
   "cell_type": "code",
   "execution_count": 17,
   "metadata": {},
   "outputs": [
    {
     "data": {
      "text/plain": [
       "count    25191.000000\n",
       "mean       141.816998\n",
       "std        147.389669\n",
       "min          0.000000\n",
       "25%         69.000000\n",
       "50%        105.000000\n",
       "75%        175.000000\n",
       "max       7500.000000\n",
       "Name: price, dtype: float64"
      ]
     },
     "execution_count": 17,
     "metadata": {},
     "output_type": "execute_result"
    }
   ],
   "source": [
    "# check outliers in numerical columns , we have only the price column\n",
    "airbnb_merged['price'].describe()"
   ]
  },
  {
   "cell_type": "markdown",
   "metadata": {},
   "source": [
    "* as we can see the price column min=0 and there are no rooms would be free\n",
    "so we will remove rows with price =0\n",
    "* also max price = 7500 althoug the third quartile = 175 , so the price column have outliers"
   ]
  },
  {
   "cell_type": "code",
   "execution_count": 18,
   "metadata": {},
   "outputs": [
    {
     "data": {
      "text/html": [
       "<div>\n",
       "<style scoped>\n",
       "    .dataframe tbody tr th:only-of-type {\n",
       "        vertical-align: middle;\n",
       "    }\n",
       "\n",
       "    .dataframe tbody tr th {\n",
       "        vertical-align: top;\n",
       "    }\n",
       "\n",
       "    .dataframe thead th {\n",
       "        text-align: right;\n",
       "    }\n",
       "</style>\n",
       "<table border=\"1\" class=\"dataframe\">\n",
       "  <thead>\n",
       "    <tr style=\"text-align: right;\">\n",
       "      <th></th>\n",
       "      <th>listing_id</th>\n",
       "      <th>price</th>\n",
       "      <th>description</th>\n",
       "      <th>room_type</th>\n",
       "      <th>host_name</th>\n",
       "      <th>last_review</th>\n",
       "      <th>borough</th>\n",
       "      <th>neighbourhood</th>\n",
       "    </tr>\n",
       "  </thead>\n",
       "  <tbody>\n",
       "    <tr>\n",
       "      <th>10861</th>\n",
       "      <td>20333471</td>\n",
       "      <td>0</td>\n",
       "      <td>‚òÖHostel Style Room | Ideal Traveling Buddies‚òÖ</td>\n",
       "      <td>private room</td>\n",
       "      <td>Anisha</td>\n",
       "      <td>2019-06-24</td>\n",
       "      <td>Bronx</td>\n",
       "      <td>East Morrisania</td>\n",
       "    </tr>\n",
       "    <tr>\n",
       "      <th>10958</th>\n",
       "      <td>20523843</td>\n",
       "      <td>0</td>\n",
       "      <td>MARTIAL LOFT 3: REDEMPTION (upstairs, 2nd room)</td>\n",
       "      <td>private room</td>\n",
       "      <td>Martial Loft</td>\n",
       "      <td>2019-05-18</td>\n",
       "      <td>Brooklyn</td>\n",
       "      <td>Bushwick</td>\n",
       "    </tr>\n",
       "    <tr>\n",
       "      <th>11023</th>\n",
       "      <td>20639628</td>\n",
       "      <td>0</td>\n",
       "      <td>Spacious comfortable master bedroom with nice ...</td>\n",
       "      <td>private room</td>\n",
       "      <td>Adeyemi</td>\n",
       "      <td>2019-06-15</td>\n",
       "      <td>Brooklyn</td>\n",
       "      <td>Bedford-Stuyvesant</td>\n",
       "    </tr>\n",
       "    <tr>\n",
       "      <th>11024</th>\n",
       "      <td>20639792</td>\n",
       "      <td>0</td>\n",
       "      <td>Contemporary bedroom in brownstone with nice view</td>\n",
       "      <td>private room</td>\n",
       "      <td>Adeyemi</td>\n",
       "      <td>2019-06-21</td>\n",
       "      <td>Brooklyn</td>\n",
       "      <td>Bedford-Stuyvesant</td>\n",
       "    </tr>\n",
       "    <tr>\n",
       "      <th>11025</th>\n",
       "      <td>20639914</td>\n",
       "      <td>0</td>\n",
       "      <td>Cozy yet spacious private brownstone bedroom</td>\n",
       "      <td>private room</td>\n",
       "      <td>Adeyemi</td>\n",
       "      <td>2019-06-23</td>\n",
       "      <td>Brooklyn</td>\n",
       "      <td>Bedford-Stuyvesant</td>\n",
       "    </tr>\n",
       "    <tr>\n",
       "      <th>11577</th>\n",
       "      <td>21291569</td>\n",
       "      <td>0</td>\n",
       "      <td>Coliving in Brooklyn! Modern design / Shared room</td>\n",
       "      <td>shared room</td>\n",
       "      <td>Sergii</td>\n",
       "      <td>2019-06-22</td>\n",
       "      <td>Brooklyn</td>\n",
       "      <td>Bushwick</td>\n",
       "    </tr>\n",
       "    <tr>\n",
       "      <th>11589</th>\n",
       "      <td>21304320</td>\n",
       "      <td>0</td>\n",
       "      <td>Best Coliving space ever! Shared room.</td>\n",
       "      <td>shared room</td>\n",
       "      <td>Sergii</td>\n",
       "      <td>2019-05-24</td>\n",
       "      <td>Brooklyn</td>\n",
       "      <td>Bushwick</td>\n",
       "    </tr>\n",
       "  </tbody>\n",
       "</table>\n",
       "</div>"
      ],
      "text/plain": [
       "       listing_id  price                                        description  \\\n",
       "10861    20333471      0  ‚òÖHostel Style Room | Ideal Traveling Buddies‚òÖ   \n",
       "10958    20523843      0    MARTIAL LOFT 3: REDEMPTION (upstairs, 2nd room)   \n",
       "11023    20639628      0  Spacious comfortable master bedroom with nice ...   \n",
       "11024    20639792      0  Contemporary bedroom in brownstone with nice view   \n",
       "11025    20639914      0       Cozy yet spacious private brownstone bedroom   \n",
       "11577    21291569      0  Coliving in Brooklyn! Modern design / Shared room   \n",
       "11589    21304320      0             Best Coliving space ever! Shared room.   \n",
       "\n",
       "          room_type     host_name last_review   borough        neighbourhood  \n",
       "10861  private room        Anisha  2019-06-24     Bronx      East Morrisania  \n",
       "10958  private room  Martial Loft  2019-05-18  Brooklyn             Bushwick  \n",
       "11023  private room       Adeyemi  2019-06-15  Brooklyn   Bedford-Stuyvesant  \n",
       "11024  private room       Adeyemi  2019-06-21  Brooklyn   Bedford-Stuyvesant  \n",
       "11025  private room       Adeyemi  2019-06-23  Brooklyn   Bedford-Stuyvesant  \n",
       "11577   shared room        Sergii  2019-06-22  Brooklyn             Bushwick  \n",
       "11589   shared room        Sergii  2019-05-24  Brooklyn             Bushwick  "
      ]
     },
     "execution_count": 18,
     "metadata": {},
     "output_type": "execute_result"
    }
   ],
   "source": [
    "# check how many rocords with zero price\n",
    "airbnb_merged[airbnb_merged['price']== 0]"
   ]
  },
  {
   "cell_type": "code",
   "execution_count": 19,
   "metadata": {},
   "outputs": [],
   "source": [
    "# remove the listings with a price = 0 from the dataset\n",
    "airbnb_merged = airbnb_merged[airbnb_merged['price'] != 0]"
   ]
  },
  {
   "cell_type": "code",
   "execution_count": 20,
   "metadata": {},
   "outputs": [
    {
     "name": "stdout",
     "output_type": "stream",
     "text": [
      "AxesSubplot(0.125,0.125;0.775x0.755)\n"
     ]
    },
    {
     "data": {
      "image/png": "[encoded data removed]",
      "text/plain": [
       "<Figure size 1008x432 with 1 Axes>"
      ]
     },
     "metadata": {
      "needs_background": "light"
     },
     "output_type": "display_data"
    }
   ],
   "source": [
    "# check the distribution of the price column using a boxplot\n",
    "print(airbnb_merged['price'].plot(kind='box', vert=False, figsize=(14,6), fontsize=14))"
   ]
  },
  {
   "cell_type": "markdown",
   "metadata": {},
   "source": [
    "from the boxplot we can see that we have a lot of outliers in the price column , so we will remove them using the quantile method so we can keep the 99% of the data"
   ]
  },
  {
   "cell_type": "code",
   "execution_count": 21,
   "metadata": {},
   "outputs": [
    {
     "data": {
      "text/plain": [
       "(24730, 8)"
      ]
     },
     "execution_count": 21,
     "metadata": {},
     "output_type": "execute_result"
    }
   ],
   "source": [
    "upper_limit = airbnb_merged['price'].quantile(0.99)\n",
    "lower_limit = airbnb_merged['price'].quantile(0.01)\n",
    "# filter the data\n",
    "airbnb_merged=airbnb_merged[(airbnb_merged['price'] >= lower_limit) & \n",
    "(airbnb_merged['price'] <= upper_limit)]\n",
    "# check the data shape after filter\n",
    "airbnb_merged.shape"
   ]
  },
  {
   "cell_type": "markdown",
   "metadata": {},
   "source": [
    "# Data Analysis"
   ]
  },
  {
   "cell_type": "markdown",
   "metadata": {},
   "source": [
    "### Average daily cost in airbnb listing"
   ]
  },
  {
   "cell_type": "code",
   "execution_count": 22,
   "metadata": {},
   "outputs": [
    {
     "name": "stdout",
     "output_type": "stream",
     "text": [
      "the average price per night for airbnb is 133.9 dollars\n"
     ]
    }
   ],
   "source": [
    "daily_average = round(airbnb_merged['price'].mean(),2)\n",
    "print(f\"the average price per night for airbnb is {daily_average} dollars\")"
   ]
  },
  {
   "cell_type": "code",
   "execution_count": 23,
   "metadata": {},
   "outputs": [
    {
     "name": "stdout",
     "output_type": "stream",
     "text": [
      "borough\n",
      "Bronx             81.58\n",
      "Brooklyn         118.86\n",
      "Manhattan        167.78\n",
      "Queens            92.43\n",
      "Staten Island     87.50\n",
      "Name: price, dtype: float64\n"
     ]
    }
   ],
   "source": [
    "# what is the average price per night for each borough?\n",
    "borough_average = airbnb_merged.groupby('borough')['price'].mean().round(2)\n",
    "print(borough_average)"
   ]
  },
  {
   "cell_type": "markdown",
   "metadata": {},
   "source": [
    "the highest average price per night is in Manhattan"
   ]
  },
  {
   "cell_type": "markdown",
   "metadata": {},
   "source": [
    "#### Average monthly cost "
   ]
  },
  {
   "cell_type": "code",
   "execution_count": 24,
   "metadata": {},
   "outputs": [
    {
     "name": "stdout",
     "output_type": "stream",
     "text": [
      "the average price per month for airbnb is 4072.66 dollars\n"
     ]
    }
   ],
   "source": [
    "# add a new column `price_per_month` to the prices dataset\n",
    "airbnb_merged['price_per_month'] = airbnb_merged['price'] * 365 / 12\n",
    "# calculate the average price per month\n",
    "monthly_average = round(airbnb_merged['price_per_month'].mean(),2)\n",
    "print(f\"the average price per month for airbnb is {monthly_average} dollars\")"
   ]
  },
  {
   "cell_type": "code",
   "execution_count": 25,
   "metadata": {},
   "outputs": [
    {
     "name": "stdout",
     "output_type": "stream",
     "text": [
      "borough\n",
      "Bronx             81.58\n",
      "Brooklyn         118.86\n",
      "Manhattan        167.78\n",
      "Queens            92.43\n",
      "Staten Island     87.50\n",
      "Name: price, dtype: float64\n"
     ]
    }
   ],
   "source": [
    "# what is the average price per night for each borough?\n",
    "borough_average_daily = airbnb_merged.groupby('borough')['price'].mean().round(2)\n",
    "print(borough_average_daily)\n",
    "\n"
   ]
  },
  {
   "cell_type": "code",
   "execution_count": 26,
   "metadata": {},
   "outputs": [
    {
     "name": "stdout",
     "output_type": "stream",
     "text": [
      "room_type\n",
      "entire home/apt    183.08\n",
      "private room        80.03\n",
      "shared room         58.62\n",
      "Name: price, dtype: float64\n"
     ]
    }
   ],
   "source": [
    "# average daily price per room type\n",
    "room_type_average_daily = airbnb_merged.groupby('room_type')['price'].mean().round(2)\n",
    "print(room_type_average_daily)"
   ]
  },
  {
   "cell_type": "code",
   "execution_count": 27,
   "metadata": {},
   "outputs": [
    {
     "data": {
      "text/html": [
       "<div>\n",
       "<style scoped>\n",
       "    .dataframe tbody tr th:only-of-type {\n",
       "        vertical-align: middle;\n",
       "    }\n",
       "\n",
       "    .dataframe tbody tr th {\n",
       "        vertical-align: top;\n",
       "    }\n",
       "\n",
       "    .dataframe thead th {\n",
       "        text-align: right;\n",
       "    }\n",
       "</style>\n",
       "<table border=\"1\" class=\"dataframe\">\n",
       "  <thead>\n",
       "    <tr style=\"text-align: right;\">\n",
       "      <th></th>\n",
       "      <th>borough</th>\n",
       "      <th>price_per_month</th>\n",
       "    </tr>\n",
       "  </thead>\n",
       "  <tbody>\n",
       "    <tr>\n",
       "      <th>2</th>\n",
       "      <td>Manhattan</td>\n",
       "      <td>5103.410976</td>\n",
       "    </tr>\n",
       "    <tr>\n",
       "      <th>1</th>\n",
       "      <td>Brooklyn</td>\n",
       "      <td>3615.442180</td>\n",
       "    </tr>\n",
       "    <tr>\n",
       "      <th>3</th>\n",
       "      <td>Queens</td>\n",
       "      <td>2811.388195</td>\n",
       "    </tr>\n",
       "    <tr>\n",
       "      <th>4</th>\n",
       "      <td>Staten Island</td>\n",
       "      <td>2661.516603</td>\n",
       "    </tr>\n",
       "    <tr>\n",
       "      <th>0</th>\n",
       "      <td>Bronx</td>\n",
       "      <td>2481.349873</td>\n",
       "    </tr>\n",
       "  </tbody>\n",
       "</table>\n",
       "</div>"
      ],
      "text/plain": [
       "         borough  price_per_month\n",
       "2      Manhattan      5103.410976\n",
       "1       Brooklyn      3615.442180\n",
       "3         Queens      2811.388195\n",
       "4  Staten Island      2661.516603\n",
       "0          Bronx      2481.349873"
      ]
     },
     "execution_count": 27,
     "metadata": {},
     "output_type": "execute_result"
    }
   ],
   "source": [
    "# check the average price per month for each borough\n",
    "borough_price = airbnb_merged.groupby('borough')['price_per_month'].mean().reset_index()\n",
    "borough_price.sort_values(by='price_per_month', ascending=False, inplace=True)\n",
    "borough_price"
   ]
  },
  {
   "cell_type": "code",
   "execution_count": 28,
   "metadata": {},
   "outputs": [
    {
     "data": {
      "text/plain": [
       "<AxesSubplot:xlabel='borough', ylabel='price_per_month'>"
      ]
     },
     "execution_count": 28,
     "metadata": {},
     "output_type": "execute_result"
    },
    {
     "data": {
      "image/png": "[encoded data removed]",
      "text/plain": [
       "<Figure size 720x432 with 1 Axes>"
      ]
     },
     "metadata": {
      "needs_background": "light"
     },
     "output_type": "display_data"
    }
   ],
   "source": [
    "# plot the average price per month for each borough\n",
    "plt.figure(figsize=(10,6))\n",
    "sns.barplot(x='borough', y='price_per_month', data=borough_price)"
   ]
  },
  {
   "cell_type": "markdown",
   "metadata": {},
   "source": [
    "### room type"
   ]
  },
  {
   "cell_type": "code",
   "execution_count": 29,
   "metadata": {},
   "outputs": [
    {
     "data": {
      "text/html": [
       "<div>\n",
       "<style scoped>\n",
       "    .dataframe tbody tr th:only-of-type {\n",
       "        vertical-align: middle;\n",
       "    }\n",
       "\n",
       "    .dataframe tbody tr th {\n",
       "        vertical-align: top;\n",
       "    }\n",
       "\n",
       "    .dataframe thead th {\n",
       "        text-align: right;\n",
       "    }\n",
       "</style>\n",
       "<table border=\"1\" class=\"dataframe\">\n",
       "  <thead>\n",
       "    <tr style=\"text-align: right;\">\n",
       "      <th></th>\n",
       "      <th>index</th>\n",
       "      <th>room_type</th>\n",
       "    </tr>\n",
       "  </thead>\n",
       "  <tbody>\n",
       "    <tr>\n",
       "      <th>0</th>\n",
       "      <td>entire home/apt</td>\n",
       "      <td>13026</td>\n",
       "    </tr>\n",
       "    <tr>\n",
       "      <th>1</th>\n",
       "      <td>private room</td>\n",
       "      <td>11228</td>\n",
       "    </tr>\n",
       "    <tr>\n",
       "      <th>2</th>\n",
       "      <td>shared room</td>\n",
       "      <td>476</td>\n",
       "    </tr>\n",
       "  </tbody>\n",
       "</table>\n",
       "</div>"
      ],
      "text/plain": [
       "             index  room_type\n",
       "0  entire home/apt      13026\n",
       "1     private room      11228\n",
       "2      shared room        476"
      ]
     },
     "execution_count": 29,
     "metadata": {},
     "output_type": "execute_result"
    }
   ],
   "source": [
    "# which room type is the most common airbnb in NYC ?\n",
    "airbnb_merged['room_type'].value_counts().reset_index()    "
   ]
  },
  {
   "cell_type": "code",
   "execution_count": 30,
   "metadata": {},
   "outputs": [
    {
     "data": {
      "text/html": [
       "<div>\n",
       "<style scoped>\n",
       "    .dataframe tbody tr th:only-of-type {\n",
       "        vertical-align: middle;\n",
       "    }\n",
       "\n",
       "    .dataframe tbody tr th {\n",
       "        vertical-align: top;\n",
       "    }\n",
       "\n",
       "    .dataframe thead th {\n",
       "        text-align: right;\n",
       "    }\n",
       "</style>\n",
       "<table border=\"1\" class=\"dataframe\">\n",
       "  <thead>\n",
       "    <tr style=\"text-align: right;\">\n",
       "      <th></th>\n",
       "      <th>borough</th>\n",
       "      <th>room_type</th>\n",
       "      <th>listing_id</th>\n",
       "    </tr>\n",
       "  </thead>\n",
       "  <tbody>\n",
       "    <tr>\n",
       "      <th>6</th>\n",
       "      <td>Manhattan</td>\n",
       "      <td>entire home/apt</td>\n",
       "      <td>5986</td>\n",
       "    </tr>\n",
       "    <tr>\n",
       "      <th>3</th>\n",
       "      <td>Brooklyn</td>\n",
       "      <td>entire home/apt</td>\n",
       "      <td>5320</td>\n",
       "    </tr>\n",
       "    <tr>\n",
       "      <th>4</th>\n",
       "      <td>Brooklyn</td>\n",
       "      <td>private room</td>\n",
       "      <td>4854</td>\n",
       "    </tr>\n",
       "    <tr>\n",
       "      <th>7</th>\n",
       "      <td>Manhattan</td>\n",
       "      <td>private room</td>\n",
       "      <td>3873</td>\n",
       "    </tr>\n",
       "    <tr>\n",
       "      <th>10</th>\n",
       "      <td>Queens</td>\n",
       "      <td>private room</td>\n",
       "      <td>1989</td>\n",
       "    </tr>\n",
       "    <tr>\n",
       "      <th>9</th>\n",
       "      <td>Queens</td>\n",
       "      <td>entire home/apt</td>\n",
       "      <td>1328</td>\n",
       "    </tr>\n",
       "    <tr>\n",
       "      <th>1</th>\n",
       "      <td>Bronx</td>\n",
       "      <td>private room</td>\n",
       "      <td>385</td>\n",
       "    </tr>\n",
       "    <tr>\n",
       "      <th>0</th>\n",
       "      <td>Bronx</td>\n",
       "      <td>entire home/apt</td>\n",
       "      <td>259</td>\n",
       "    </tr>\n",
       "    <tr>\n",
       "      <th>8</th>\n",
       "      <td>Manhattan</td>\n",
       "      <td>shared room</td>\n",
       "      <td>246</td>\n",
       "    </tr>\n",
       "    <tr>\n",
       "      <th>12</th>\n",
       "      <td>Staten Island</td>\n",
       "      <td>entire home/apt</td>\n",
       "      <td>133</td>\n",
       "    </tr>\n",
       "    <tr>\n",
       "      <th>5</th>\n",
       "      <td>Brooklyn</td>\n",
       "      <td>shared room</td>\n",
       "      <td>131</td>\n",
       "    </tr>\n",
       "    <tr>\n",
       "      <th>13</th>\n",
       "      <td>Staten Island</td>\n",
       "      <td>private room</td>\n",
       "      <td>127</td>\n",
       "    </tr>\n",
       "    <tr>\n",
       "      <th>11</th>\n",
       "      <td>Queens</td>\n",
       "      <td>shared room</td>\n",
       "      <td>87</td>\n",
       "    </tr>\n",
       "    <tr>\n",
       "      <th>2</th>\n",
       "      <td>Bronx</td>\n",
       "      <td>shared room</td>\n",
       "      <td>11</td>\n",
       "    </tr>\n",
       "    <tr>\n",
       "      <th>14</th>\n",
       "      <td>Staten Island</td>\n",
       "      <td>shared room</td>\n",
       "      <td>1</td>\n",
       "    </tr>\n",
       "  </tbody>\n",
       "</table>\n",
       "</div>"
      ],
      "text/plain": [
       "          borough        room_type  listing_id\n",
       "6       Manhattan  entire home/apt        5986\n",
       "3        Brooklyn  entire home/apt        5320\n",
       "4        Brooklyn     private room        4854\n",
       "7       Manhattan     private room        3873\n",
       "10         Queens     private room        1989\n",
       "9          Queens  entire home/apt        1328\n",
       "1           Bronx     private room         385\n",
       "0           Bronx  entire home/apt         259\n",
       "8       Manhattan      shared room         246\n",
       "12  Staten Island  entire home/apt         133\n",
       "5        Brooklyn      shared room         131\n",
       "13  Staten Island     private room         127\n",
       "11         Queens      shared room          87\n",
       "2           Bronx      shared room          11\n",
       "14  Staten Island      shared room           1"
      ]
     },
     "execution_count": 30,
     "metadata": {},
     "output_type": "execute_result"
    }
   ],
   "source": [
    "# what is the most common room type in each borough ?\n",
    "borough_room_type = airbnb_merged.groupby(['borough', 'room_type'])['listing_id'].count().reset_index()\n",
    "borough_room_type.sort_values(by='listing_id', ascending=False, inplace=True)\n",
    "borough_room_type"
   ]
  },
  {
   "cell_type": "code",
   "execution_count": 31,
   "metadata": {},
   "outputs": [
    {
     "data": {
      "image/png": "[encoded data removed]",
      "text/plain": [
       "<Figure size 720x432 with 1 Axes>"
      ]
     },
     "metadata": {
      "needs_background": "light"
     },
     "output_type": "display_data"
    }
   ],
   "source": [
    "# plot the most common room type in each borough using a bar chart\n",
    "plt.figure(figsize=(10,6))\n",
    "sns.barplot(x='borough', y='listing_id', hue='room_type', data=borough_room_type);"
   ]
  },
  {
   "cell_type": "markdown",
   "metadata": {},
   "source": [
    "the most common room type in Manhattan and Brooklyn is Entire home or apartment while in Queens and Bronx is Private room"
   ]
  },
  {
   "cell_type": "code",
   "execution_count": 32,
   "metadata": {},
   "outputs": [
    {
     "data": {
      "text/plain": [
       "room_type\n",
       "entire home/apt    183.077998\n",
       "private room        80.029035\n",
       "shared room         58.621849\n",
       "Name: price, dtype: float64"
      ]
     },
     "execution_count": 32,
     "metadata": {},
     "output_type": "execute_result"
    }
   ],
   "source": [
    "# what is average daily price per room type ?\n",
    "airbnb_merged.groupby('room_type')['price'].mean().sort_values(ascending=False)"
   ]
  },
  {
   "cell_type": "code",
   "execution_count": 33,
   "metadata": {},
   "outputs": [
    {
     "data": {
      "text/html": [
       "<div>\n",
       "<style scoped>\n",
       "    .dataframe tbody tr th:only-of-type {\n",
       "        vertical-align: middle;\n",
       "    }\n",
       "\n",
       "    .dataframe tbody tr th {\n",
       "        vertical-align: top;\n",
       "    }\n",
       "\n",
       "    .dataframe thead th {\n",
       "        text-align: right;\n",
       "    }\n",
       "</style>\n",
       "<table border=\"1\" class=\"dataframe\">\n",
       "  <thead>\n",
       "    <tr style=\"text-align: right;\">\n",
       "      <th></th>\n",
       "      <th>borough</th>\n",
       "      <th>room_type</th>\n",
       "      <th>price</th>\n",
       "    </tr>\n",
       "  </thead>\n",
       "  <tbody>\n",
       "    <tr>\n",
       "      <th>6</th>\n",
       "      <td>Manhattan</td>\n",
       "      <td>entire home/apt</td>\n",
       "      <td>213.781824</td>\n",
       "    </tr>\n",
       "    <tr>\n",
       "      <th>3</th>\n",
       "      <td>Brooklyn</td>\n",
       "      <td>entire home/apt</td>\n",
       "      <td>164.308835</td>\n",
       "    </tr>\n",
       "    <tr>\n",
       "      <th>9</th>\n",
       "      <td>Queens</td>\n",
       "      <td>entire home/apt</td>\n",
       "      <td>139.090361</td>\n",
       "    </tr>\n",
       "    <tr>\n",
       "      <th>0</th>\n",
       "      <td>Bronx</td>\n",
       "      <td>entire home/apt</td>\n",
       "      <td>118.571429</td>\n",
       "    </tr>\n",
       "    <tr>\n",
       "      <th>12</th>\n",
       "      <td>Staten Island</td>\n",
       "      <td>entire home/apt</td>\n",
       "      <td>116.774436</td>\n",
       "    </tr>\n",
       "    <tr>\n",
       "      <th>7</th>\n",
       "      <td>Manhattan</td>\n",
       "      <td>private room</td>\n",
       "      <td>102.852569</td>\n",
       "    </tr>\n",
       "    <tr>\n",
       "      <th>4</th>\n",
       "      <td>Brooklyn</td>\n",
       "      <td>private room</td>\n",
       "      <td>71.030490</td>\n",
       "    </tr>\n",
       "    <tr>\n",
       "      <th>8</th>\n",
       "      <td>Manhattan</td>\n",
       "      <td>shared room</td>\n",
       "      <td>70.752033</td>\n",
       "    </tr>\n",
       "    <tr>\n",
       "      <th>10</th>\n",
       "      <td>Queens</td>\n",
       "      <td>private room</td>\n",
       "      <td>63.325289</td>\n",
       "    </tr>\n",
       "    <tr>\n",
       "      <th>1</th>\n",
       "      <td>Bronx</td>\n",
       "      <td>private room</td>\n",
       "      <td>57.675325</td>\n",
       "    </tr>\n",
       "    <tr>\n",
       "      <th>13</th>\n",
       "      <td>Staten Island</td>\n",
       "      <td>private room</td>\n",
       "      <td>57.299213</td>\n",
       "    </tr>\n",
       "    <tr>\n",
       "      <th>2</th>\n",
       "      <td>Bronx</td>\n",
       "      <td>shared room</td>\n",
       "      <td>47.181818</td>\n",
       "    </tr>\n",
       "    <tr>\n",
       "      <th>5</th>\n",
       "      <td>Brooklyn</td>\n",
       "      <td>shared room</td>\n",
       "      <td>45.702290</td>\n",
       "    </tr>\n",
       "    <tr>\n",
       "      <th>11</th>\n",
       "      <td>Queens</td>\n",
       "      <td>shared room</td>\n",
       "      <td>45.551724</td>\n",
       "    </tr>\n",
       "    <tr>\n",
       "      <th>14</th>\n",
       "      <td>Staten Island</td>\n",
       "      <td>shared room</td>\n",
       "      <td>30.000000</td>\n",
       "    </tr>\n",
       "  </tbody>\n",
       "</table>\n",
       "</div>"
      ],
      "text/plain": [
       "          borough        room_type       price\n",
       "6       Manhattan  entire home/apt  213.781824\n",
       "3        Brooklyn  entire home/apt  164.308835\n",
       "9          Queens  entire home/apt  139.090361\n",
       "0           Bronx  entire home/apt  118.571429\n",
       "12  Staten Island  entire home/apt  116.774436\n",
       "7       Manhattan     private room  102.852569\n",
       "4        Brooklyn     private room   71.030490\n",
       "8       Manhattan      shared room   70.752033\n",
       "10         Queens     private room   63.325289\n",
       "1           Bronx     private room   57.675325\n",
       "13  Staten Island     private room   57.299213\n",
       "2           Bronx      shared room   47.181818\n",
       "5        Brooklyn      shared room   45.702290\n",
       "11         Queens      shared room   45.551724\n",
       "14  Staten Island      shared room   30.000000"
      ]
     },
     "execution_count": 33,
     "metadata": {},
     "output_type": "execute_result"
    }
   ],
   "source": [
    "# what is the average daily price per room type in each borough ?\n",
    "borough_room_type_price = airbnb_merged.groupby(['borough', 'room_type'])['price'].mean().reset_index()\n",
    "borough_room_type_price.sort_values(by='price', ascending=False, inplace=True)\n",
    "borough_room_type_price\n"
   ]
  },
  {
   "cell_type": "code",
   "execution_count": 34,
   "metadata": {},
   "outputs": [
    {
     "data": {
      "text/plain": [
       "<AxesSubplot:xlabel='borough', ylabel='price'>"
      ]
     },
     "execution_count": 34,
     "metadata": {},
     "output_type": "execute_result"
    },
    {
     "data": {
      "image/png": "[encoded data removed]",
      "text/plain": [
       "<Figure size 720x432 with 1 Axes>"
      ]
     },
     "metadata": {
      "needs_background": "light"
     },
     "output_type": "display_data"
    }
   ],
   "source": [
    "# plot the average price per month for each borough\n",
    "plt.figure(figsize=(10,6))\n",
    "sns.barplot(x='borough', y='price', hue='room_type', data=airbnb_merged)"
   ]
  },
  {
   "cell_type": "code",
   "execution_count": 35,
   "metadata": {},
   "outputs": [
    {
     "name": "stdout",
     "output_type": "stream",
     "text": [
      "2019-01-01 00:00:00\n",
      "2019-07-09 00:00:00\n"
     ]
    }
   ],
   "source": [
    "# last review distribution\n",
    "print(airbnb_merged['last_review'].min())\n",
    "print(airbnb_merged['last_review'].max())"
   ]
  },
  {
   "cell_type": "code",
   "execution_count": 36,
   "metadata": {},
   "outputs": [],
   "source": [
    "# extract the month from last_review column\n",
    "airbnb_merged['month'] = airbnb_merged['last_review'].dt.month"
   ]
  },
  {
   "cell_type": "code",
   "execution_count": 37,
   "metadata": {},
   "outputs": [
    {
     "data": {
      "text/plain": [
       "<AxesSubplot:xlabel='month', ylabel='count'>"
      ]
     },
     "execution_count": 37,
     "metadata": {},
     "output_type": "execute_result"
    },
    {
     "data": {
      "image/png": "[encoded data removed]",
      "text/plain": [
       "<Figure size 720x432 with 1 Axes>"
      ]
     },
     "metadata": {
      "needs_background": "light"
     },
     "output_type": "display_data"
    }
   ],
   "source": [
    "# plot the number of listings per month\n",
    "plt.figure(figsize=(10,6))\n",
    "sns.countplot(x='month', data=airbnb_merged)"
   ]
  },
  {
   "cell_type": "markdown",
   "metadata": {},
   "source": [
    "### conclusion: \n",
    "* in the period from 2019-01-01  to 2020-07-09  there were 24730 airbnb listings in NYC.\n",
    "* The average price per night for airbnb in NYC is 169.44 dollars while The average price per month is 4072.67 dollars.\n",
    "* The Most expensive borough is Manhattan with an average price per month of 5103.41 dollars, while the cheapest borough is Bronx with an average price per month of 2481.34 dollars.\n",
    "* in general the most common room type in Airbnb NYC listings is Entire home/apt. \n",
    "* in Manhattan and Brooklyn the most common room type is Entire home/apt, while in Bronx, Queens and Staten Island the most common room type is Private room.\n",
    "\n",
    "* The average daily price for Entire home/apt is 183 dollars, while the average daily price for Private room is 80 dollars, \n",
    "and the average daily price for Shared room is 50 dollars.\n",
    "\n",
    "* in Manhattan the average daily price for Entire home/apt is 213.78 dollars, and Private room is 102.85 dollars.\n",
    "* in Brooklyn the average daily price for Entire home/apt is 164.3 dollars, and  Private room is 71 dollars.\n",
    "* in Queens the average daily price for Entire home/apt is 139 dollars, and  Private room is 63 dollars.\n",
    "\n",
    "\n",
    "* The most common month for airbnb listings is June with 12378 listings, while the least common month is Feb with 452 listings.\n",
    "\n",
    "\n"
   ]
  }
 ],
 "metadata": {
  "kernelspec": {
   "display_name": "base",
   "language": "python",
   "name": "python3"
  },
  "language_info": {
   "codemirror_mode": {
    "name": "ipython",
    "version": 3
   },
   "file_extension": ".py",
   "mimetype": "text/x-python",
   "name": "python",
   "nbconvert_exporter": "python",
   "pygments_lexer": "ipython3",
   "version": "3.9.12"
  }
 },
 "nbformat": 4,
 "nbformat_minor": 2
}
